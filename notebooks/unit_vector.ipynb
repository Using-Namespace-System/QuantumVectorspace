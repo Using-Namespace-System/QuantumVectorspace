{
 "cells": [
  {
   "cell_type": "markdown",
   "metadata": {},
   "source": [
    "0 = [\n",
    "        1,\n",
    "        0\n",
    "    ]\n",
    "1 = [\n",
    "        0,\n",
    "        1\n",
    "    ]"
   ]
  },
  {
   "cell_type": "markdown",
   "metadata": {},
   "source": [
    "00 = [\n",
    "        1,\n",
    "        0,\n",
    "        0,\n",
    "        0\n",
    "    ]\n",
    "01 = [\n",
    "        0,\n",
    "        1,\n",
    "        0,\n",
    "        0\n",
    "    ]\n",
    "10 = [\n",
    "        0,\n",
    "        0,\n",
    "        1,\n",
    "        0\n",
    "    ]\n",
    "11 = [\n",
    "        0,\n",
    "        0,\n",
    "        0,\n",
    "        1\n",
    "    ]"
   ]
  },
  {
   "cell_type": "code",
   "execution_count": 12,
   "metadata": {},
   "outputs": [
    {
     "name": "stdout",
     "output_type": "stream",
     "text": [
      "[0 1 0 0]\n"
     ]
    },
    {
     "data": {
      "text/plain": [
       "array([0, 1, 0, 0, 0, 0, 0, 0])"
      ]
     },
     "execution_count": 12,
     "metadata": {},
     "output_type": "execute_result"
    }
   ],
   "source": [
    "import numpy as np\n",
    "import math\n",
    "\n",
    "#0\n",
    "q3 = np.array(\n",
    "    [\n",
    "        1,\n",
    "        0\n",
    "    ]\n",
    ")\n",
    "#0\n",
    "q2 = np.array(\n",
    "    [\n",
    "        1,\n",
    "        0\n",
    "    ]\n",
    ")\n",
    "#1\n",
    "q1 = np.array(\n",
    "    [\n",
    "        0,\n",
    "        1\n",
    "    ]\n",
    ")\n",
    "\n",
    "\n",
    "\n",
    "\n",
    "q2q1 = np.tensordot(q2,q1,axes=0).flatten()\n",
    "\n",
    "print(q2q1)\n",
    "\n",
    "q3q2q1 = np.tensordot(q3,q2q1,axes=0).flatten()\n",
    "\n",
    "q3q2q1"
   ]
  },
  {
   "cell_type": "code",
   "execution_count": 13,
   "metadata": {},
   "outputs": [
    {
     "name": "stdout",
     "output_type": "stream",
     "text": [
      "[-0.5       +0.j          0.        -0.5j         0.        +0.j\n",
      "  0.        +0.j          0.        +0.70710678j -0.70710678+0.j\n",
      "  0.        +0.j          0.        +0.j         -0.5       +0.j\n",
      "  0.        -0.5j         0.        +0.j          0.        +0.j\n",
      "  0.        +0.70710678j -0.70710678+0.j          0.        +0.j\n",
      "  0.        +0.j        ]\n"
     ]
    }
   ],
   "source": [
    "import numpy as np\n",
    "\n",
    "def basevector(amplitudes: np.ndarray) -> np.ndarray:\n",
    "    if(amplitudes.size>=4):\n",
    "        return np.tensordot(amplitudes[[0,1]],basevector(amplitudes[2:]),axes=0).flatten()\n",
    "    else:\n",
    "        return amplitudes\n",
    "\n",
    "data = np.array(np.sqrt([(-2/4),(-2/4),-1,2,1,0.j,(2/4),(-2/4)]))\n",
    "\n",
    "base_data = basevector(data)\n",
    "\n",
    "print(base_data)\n",
    "\n"
   ]
  },
  {
   "cell_type": "markdown",
   "metadata": {},
   "source": [
    "[?,?,?,?,?,?,?,?] = sqrt([1,0,0,0,0,1,0,0,1,0,0,0,0,1,0,0] * 1/4)\n",
    "\n",
    "[1,0,1,0,1,0,1,0] = [1 0 0 0 0 0 0 0 0 0 0 0 0 0 0 0]\n",
    "\n",
    "[1,0,0,1,1,0,0,1] = [0 0 0 0 0 1 0 0 0 0 0 0 0 0 0 0]\n",
    "\n",
    "[0,1,1,0,1,0,1,0] = [0 0 0 0 0 0 0 0 1 0 0 0 0 0 0 0]\n",
    "\n",
    "[0,1,0,1,1,0,0,1] = [0 0 0 0 0 0 0 0 0 0 0 0 0 1 0 0]\n",
    "\n",
    "[(-2/4),(-2/4),i,sqrt(2),1,0,i,sqrt(2)]"
   ]
  },
  {
   "cell_type": "code",
   "execution_count": 14,
   "metadata": {},
   "outputs": [
    {
     "data": {
      "text/latex": [
       "$$\\frac{1}{2} |0000\\rangle+\\frac{1}{2} |0101\\rangle+\\frac{1}{2} |1000\\rangle+\\frac{1}{2} |1101\\rangle$$"
      ],
      "text/plain": [
       "<IPython.core.display.Latex object>"
      ]
     },
     "metadata": {},
     "output_type": "display_data"
    }
   ],
   "source": [
    "from qiskit import QuantumCircuit\n",
    "from qiskit.quantum_info import Statevector, DensityMatrix\n",
    "\n",
    "data = np.array([1,0,0,0,0,1,0,0,1,0,0,0,0,1,0,0])\n",
    "num_qubits = 4\n",
    "circuit = QuantumCircuit(num_qubits)\n",
    "\n",
    "data_normal = data/np.sqrt(np.sum(data**2))\n",
    "\n",
    "circuit.initialize(data_normal)\n",
    "\n",
    "state = Statevector(circuit)\n",
    "\n",
    "display(state.draw(\"latex\"))"
   ]
  },
  {
   "cell_type": "code",
   "execution_count": 15,
   "metadata": {},
   "outputs": [
    {
     "data": {
      "text/latex": [
       "$$\n",
       "\n",
       "\\begin{bmatrix}\n",
       "\\frac{1}{4} & 0 & 0 & 0 & \\cdots & \\frac{1}{4} & 0 & 0  \\\\\n",
       " 0 & 0 & 0 & 0 & \\cdots & 0 & 0 & 0  \\\\\n",
       " 0 & 0 & 0 & 0 & \\cdots & 0 & 0 & 0  \\\\\n",
       " 0 & 0 & 0 & 0 & \\cdots & 0 & 0 & 0  \\\\\n",
       " \\vdots & \\vdots & \\vdots & \\vdots & \\ddots & \\vdots & \\vdots & \\vdots \\\\\n",
       " \\frac{1}{4} & 0 & 0 & 0 & \\cdots & \\frac{1}{4} & 0 & 0  \\\\\n",
       " 0 & 0 & 0 & 0 & \\cdots & 0 & 0 & 0  \\\\\n",
       " 0 & 0 & 0 & 0 & \\cdots & 0 & 0 & 0  \\\\\n",
       " \\end{bmatrix}\n",
       "$$"
      ],
      "text/plain": [
       "<IPython.core.display.Latex object>"
      ]
     },
     "metadata": {},
     "output_type": "display_data"
    },
    {
     "data": {
      "text/plain": [
       "array([[0.25, 0.  , 0.  , 0.  , 0.  , 0.25, 0.  , 0.  , 0.25, 0.  , 0.  ,\n",
       "        0.  , 0.  , 0.25, 0.  , 0.  ],\n",
       "       [0.  , 0.  , 0.  , 0.  , 0.  , 0.  , 0.  , 0.  , 0.  , 0.  , 0.  ,\n",
       "        0.  , 0.  , 0.  , 0.  , 0.  ],\n",
       "       [0.  , 0.  , 0.  , 0.  , 0.  , 0.  , 0.  , 0.  , 0.  , 0.  , 0.  ,\n",
       "        0.  , 0.  , 0.  , 0.  , 0.  ],\n",
       "       [0.  , 0.  , 0.  , 0.  , 0.  , 0.  , 0.  , 0.  , 0.  , 0.  , 0.  ,\n",
       "        0.  , 0.  , 0.  , 0.  , 0.  ],\n",
       "       [0.  , 0.  , 0.  , 0.  , 0.  , 0.  , 0.  , 0.  , 0.  , 0.  , 0.  ,\n",
       "        0.  , 0.  , 0.  , 0.  , 0.  ],\n",
       "       [0.25, 0.  , 0.  , 0.  , 0.  , 0.25, 0.  , 0.  , 0.25, 0.  , 0.  ,\n",
       "        0.  , 0.  , 0.25, 0.  , 0.  ],\n",
       "       [0.  , 0.  , 0.  , 0.  , 0.  , 0.  , 0.  , 0.  , 0.  , 0.  , 0.  ,\n",
       "        0.  , 0.  , 0.  , 0.  , 0.  ],\n",
       "       [0.  , 0.  , 0.  , 0.  , 0.  , 0.  , 0.  , 0.  , 0.  , 0.  , 0.  ,\n",
       "        0.  , 0.  , 0.  , 0.  , 0.  ],\n",
       "       [0.25, 0.  , 0.  , 0.  , 0.  , 0.25, 0.  , 0.  , 0.25, 0.  , 0.  ,\n",
       "        0.  , 0.  , 0.25, 0.  , 0.  ],\n",
       "       [0.  , 0.  , 0.  , 0.  , 0.  , 0.  , 0.  , 0.  , 0.  , 0.  , 0.  ,\n",
       "        0.  , 0.  , 0.  , 0.  , 0.  ],\n",
       "       [0.  , 0.  , 0.  , 0.  , 0.  , 0.  , 0.  , 0.  , 0.  , 0.  , 0.  ,\n",
       "        0.  , 0.  , 0.  , 0.  , 0.  ],\n",
       "       [0.  , 0.  , 0.  , 0.  , 0.  , 0.  , 0.  , 0.  , 0.  , 0.  , 0.  ,\n",
       "        0.  , 0.  , 0.  , 0.  , 0.  ],\n",
       "       [0.  , 0.  , 0.  , 0.  , 0.  , 0.  , 0.  , 0.  , 0.  , 0.  , 0.  ,\n",
       "        0.  , 0.  , 0.  , 0.  , 0.  ],\n",
       "       [0.25, 0.  , 0.  , 0.  , 0.  , 0.25, 0.  , 0.  , 0.25, 0.  , 0.  ,\n",
       "        0.  , 0.  , 0.25, 0.  , 0.  ],\n",
       "       [0.  , 0.  , 0.  , 0.  , 0.  , 0.  , 0.  , 0.  , 0.  , 0.  , 0.  ,\n",
       "        0.  , 0.  , 0.  , 0.  , 0.  ],\n",
       "       [0.  , 0.  , 0.  , 0.  , 0.  , 0.  , 0.  , 0.  , 0.  , 0.  , 0.  ,\n",
       "        0.  , 0.  , 0.  , 0.  , 0.  ]])"
      ]
     },
     "execution_count": 15,
     "metadata": {},
     "output_type": "execute_result"
    }
   ],
   "source": [
    "display(DensityMatrix(state).draw(\"latex\"))\n",
    "\n",
    "np.outer(data_normal, np.conj(data_normal))"
   ]
  },
  {
   "cell_type": "code",
   "execution_count": null,
   "metadata": {},
   "outputs": [],
   "source": []
  }
 ],
 "metadata": {
  "kernelspec": {
   "display_name": "cuquantum-23.10",
   "language": "python",
   "name": "python3"
  },
  "language_info": {
   "codemirror_mode": {
    "name": "ipython",
    "version": 3
   },
   "file_extension": ".py",
   "mimetype": "text/x-python",
   "name": "python",
   "nbconvert_exporter": "python",
   "pygments_lexer": "ipython3",
   "version": "3.10.13"
  }
 },
 "nbformat": 4,
 "nbformat_minor": 2
}
